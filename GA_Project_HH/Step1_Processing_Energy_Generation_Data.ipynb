{
 "cells": [
  {
   "cell_type": "code",
   "execution_count": 82,
   "id": "dbf20987",
   "metadata": {},
   "outputs": [],
   "source": [
    "import pandas as pd\n",
    "import numpy as np\n",
    "pd.options.mode.chained_assignment = None  # default='warn'"
   ]
  },
  {
   "cell_type": "markdown",
   "id": "d18c2179",
   "metadata": {},
   "source": [
    "# Step 1) Processing Energy Generation Data"
   ]
  },
  {
   "cell_type": "code",
   "execution_count": 83,
   "id": "455a8261",
   "metadata": {
    "scrolled": true
   },
   "outputs": [],
   "source": [
    "# Importing annual generation data from csv file\n",
    "\n",
    "annual_netgen = pd.read_csv('./Data-CSV/annual_generation_state.csv')"
   ]
  },
  {
   "cell_type": "code",
   "execution_count": 84,
   "id": "9ce3f21c",
   "metadata": {},
   "outputs": [],
   "source": [
    "# Cleaning Dataframe\n",
    "\n",
    "# Renaming columns\n",
    "annual_netgen.rename(columns = {annual_netgen.columns[0]:'Year', 'Unnamed: 1':'State','Unnamed: 2':'Producer_Type','Unnamed: 3':'Energy_Source','Unnamed: 4':'Generation_MWh'}, inplace = True)\n",
    "\n",
    "# Dropping extra columns (null values)\n",
    "annual_netgen.dropna(axis='columns', inplace = True)\n",
    "\n",
    "# Dropping First row\n",
    "annual_netgen = annual_netgen.drop( 0 , axis = 0)\n",
    "\n",
    "# Removing commas from Generation column to transform type to int\n",
    "annual_netgen = annual_netgen.apply(lambda x: x.str.replace(',', ''))\n",
    "\n",
    "# Transforming Generation column to int from str\n",
    "annual_netgen['Generation_MWh'] = annual_netgen.Generation_MWh.apply(int)\n",
    "\n",
    "# Standardizing format for 'US Total' Value\n",
    "annual_netgen = annual_netgen.replace('US-TOTAL','US-Total')\n",
    "annual_netgen = annual_netgen.replace('US-Total','US')\n",
    "\n",
    "# Only leave values representative of entire electric power industry\n",
    "annual_netgen = annual_netgen[annual_netgen['Producer_Type'] == 'Total Electric Power Industry']\n",
    "\n",
    "# Setting up an empty dictionary to serve as a list of dataframes for each state\n",
    "state_gen = {}\n",
    "state_gen_mix = {}\n",
    "state_class_gen = {}\n",
    "state_mix = {}\n",
    "\n",
    "# Setting up lists of unique state and energy source values to sipmlify loops\n",
    "state_list = list(annual_netgen['State'].unique())\n",
    "state_list.remove('  ')\n",
    "energysource_list = list(annual_netgen['Energy_Source'].unique())\n",
    "\n",
    "New_England = ['CT','ME','MA','NH','RI','VT']\n",
    "Middle_Atlantic = ['NJ','NY','PA']\n",
    "East_North_Central = ['IL','IN','MI','OH','WI']\n",
    "West_North_Central = ['IA','KS','MN','MO','NE','ND','SD']\n",
    "South_Atlantic = ['DE','DC','FL','GA','MD','NC','SC','VA','WV']\n",
    "East_South_Central = ['AL','KY','MS','TN']\n",
    "West_South_Central = ['LA','AR','OK','TX']\n",
    "Mountain = ['AZ','CO','ID','MT','NV','NM','UT','WY']\n",
    "Pacific_Contiguous = ['OW','CA','WA']\n",
    "Pacific_Noncontiguous = ['AK','HI']"
   ]
  },
  {
   "cell_type": "code",
   "execution_count": 85,
   "id": "01de650d",
   "metadata": {
    "scrolled": true
   },
   "outputs": [],
   "source": [
    "## Add in regions for consistency with Price data\n",
    "#for state in state_list:\n",
    "#    if state in New_England:\n",
    "#        ne = annual_netgen[annual_netgen['State'] == state]\n",
    "#        annual_netgen = pd.concat([ne, annual_netgen])"
   ]
  },
  {
   "cell_type": "code",
   "execution_count": 86,
   "id": "8bc1461f",
   "metadata": {
    "scrolled": true
   },
   "outputs": [],
   "source": [
    "# This loop creates a dictionary of dataframes (State_Gen) for each state (+ DC & US-Total) with the year as the index\n",
    "# It uses a pivot function to organize generation in MWh by Energy Source for each state\n",
    "# If a state does not utilize a specific energy source it adds that column in with 0 MWh for standardization purposes\n",
    "\n",
    "for state in state_list:\n",
    "    state_gen[state] = annual_netgen.loc[annual_netgen['State'] == state]\n",
    "    state_gen[state].drop(columns=['State','Producer_Type'], inplace = True)\n",
    "    state_gen[state] = state_gen[state].pivot(index='Year', columns='Energy_Source')\n",
    "    state_gen[state].fillna(0, inplace = True)\n",
    "    state_gen[state] = state_gen[state]['Generation_MWh']\n",
    "    for source in energysource_list:\n",
    "        if source not in state_gen[state].columns:\n",
    "            state_gen[state][source] = 0.0\n",
    "    state_gen[state].columns.name = state"
   ]
  },
  {
   "cell_type": "code",
   "execution_count": 87,
   "id": "d4002c6e",
   "metadata": {
    "scrolled": true
   },
   "outputs": [],
   "source": [
    "# Organizes the energy by source into percentage from generation in MWh\n",
    "\n",
    "for state in state_list:\n",
    "    state_gen_mix[state] = state_gen[state].copy()\n",
    "    for source in energysource_list:\n",
    "        state_gen_mix[state][source] = round((state_gen[state][source] / state_gen[state]['Total']) * 100,2)"
   ]
  },
  {
   "cell_type": "code",
   "execution_count": 88,
   "id": "2e8f2dec",
   "metadata": {
    "scrolled": true
   },
   "outputs": [],
   "source": [
    "# This loop takes a copy of each dataframe from State_Gen and organizes it by the EIA's energy classifications\n",
    "# Dictionary of dataframes is called State_Class_Gen as it has generation in MWh by energy classification\n",
    "\n",
    "for state in state_list:\n",
    "    state_class_gen[state] = state_gen[state].copy()\n",
    "    state_class_gen[state]['Nuclear_Gen'] = state_class_gen[state]['Nuclear']\n",
    "    state_class_gen[state]['Renewables_Gen'] = state_class_gen[state]['Wind'] + state_class_gen[state]['Wood and Wood Derived Fuels'] + state_class_gen[state]['Solar Thermal and Photovoltaic'] + state_class_gen[state]['Geothermal'] + state_class_gen[state]['Hydroelectric Conventional'] + state_class_gen[state]['Other Biomass']\n",
    "    state_class_gen[state]['Fossil_Fuels_Gen'] = state_class_gen[state]['Coal'] + state_class_gen[state]['Other Gases'] + state_class_gen[state]['Petroleum'] + state_class_gen[state]['Natural Gas']\n",
    "    state_class_gen[state]['Pumped_Storage_Gen'] = state_class_gen[state]['Pumped Storage']\n",
    "    state_class_gen[state]['Others_Gen'] = state_class_gen[state]['Other']\n",
    "    state_class_gen[state].drop(columns = ['Wind', 'Wood and Wood Derived Fuels', 'Solar Thermal and Photovoltaic', \n",
    "                                           'Hydroelectric Conventional', 'Other Biomass', 'Geothermal', 'Coal', \n",
    "                                           'Natural Gas', 'Other Gases', 'Petroleum', 'Nuclear', 'Pumped Storage',\n",
    "                                           'Other'], inplace = True)"
   ]
  },
  {
   "cell_type": "code",
   "execution_count": 89,
   "id": "bf66935b",
   "metadata": {},
   "outputs": [],
   "source": [
    "# This loop takes the prior dictionary of dataframes (State_Class_Gen) and finds the percantage of each class\n",
    "# Dictionary of dataframes is called State_Mix as it has each state's share of all energy classes\n",
    "# Sum Column can be removed or commented out, is there for validation\n",
    "\n",
    "for state in state_list:\n",
    "    state_mix[state] = state_class_gen[state].copy()\n",
    "    state_mix[state]['Renewables_pct'] = round((state_class_gen[state]['Renewables_Gen'] / state_class_gen[state]['Total']) * 100, 2)\n",
    "    state_mix[state]['Fossil_Fuels_pct'] = round((state_class_gen[state]['Fossil_Fuels_Gen'] / state_class_gen[state]['Total']) * 100, 2)\n",
    "    state_mix[state]['Nuclear_pct'] = round((state_class_gen[state]['Nuclear_Gen'] / state_class_gen[state]['Total']) * 100, 2)\n",
    "    state_mix[state]['Pumped_Storage_pct'] = round((state_class_gen[state]['Pumped_Storage_Gen'] / state_class_gen[state]['Total']) * 100, 2)\n",
    "    state_mix[state]['Other_pct'] = round((state_class_gen[state]['Others_Gen'] / state_class_gen[state]['Total']) * 100, 2)\n",
    "    state_mix[state].drop(columns = ['Nuclear_Gen', 'Renewables_Gen', 'Fossil_Fuels_Gen', 'Pumped_Storage_Gen', 'Others_Gen', 'Total'], inplace = True)\n",
    "    \n",
    "    #state_mix[state]['SumCheck'] = round(state_mix[state]['Renewables_pct'] + state_mix[state]['Fossil_Fuels_pct'] + state_mix[state]['Nuclear_pct'] + state_mix[state]['Pumped_Storage_pct'] + state_mix[state]['Other_pct'], 2)"
   ]
  },
  {
   "cell_type": "code",
   "execution_count": 90,
   "id": "da72dcf8",
   "metadata": {
    "scrolled": true
   },
   "outputs": [],
   "source": [
    "#Test\n",
    "#state_gen['LA']"
   ]
  },
  {
   "cell_type": "code",
   "execution_count": 91,
   "id": "75fc77d1",
   "metadata": {
    "scrolled": true
   },
   "outputs": [],
   "source": [
    "#Test\n",
    "#state_gen_mix['WA']"
   ]
  },
  {
   "cell_type": "code",
   "execution_count": 92,
   "id": "3ab9e0f4",
   "metadata": {
    "scrolled": true
   },
   "outputs": [],
   "source": [
    "#Test\n",
    "#state_class_gen['ND']"
   ]
  },
  {
   "cell_type": "code",
   "execution_count": 93,
   "id": "cb596e80",
   "metadata": {
    "scrolled": true
   },
   "outputs": [],
   "source": [
    "#Test\n",
    "#state_mix['US']"
   ]
  }
 ],
 "metadata": {
  "kernelspec": {
   "display_name": "Python 3 (ipykernel)",
   "language": "python",
   "name": "python3"
  },
  "language_info": {
   "codemirror_mode": {
    "name": "ipython",
    "version": 3
   },
   "file_extension": ".py",
   "mimetype": "text/x-python",
   "name": "python",
   "nbconvert_exporter": "python",
   "pygments_lexer": "ipython3",
   "version": "3.9.12"
  }
 },
 "nbformat": 4,
 "nbformat_minor": 5
}
